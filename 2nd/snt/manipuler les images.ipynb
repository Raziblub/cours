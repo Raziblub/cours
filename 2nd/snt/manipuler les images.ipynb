{
 "cells": [
  {
   "cell_type": "markdown",
   "metadata": {},
   "source": [
    "importation des librairies"
   ]
  },
  {
   "cell_type": "code",
   "execution_count": 90,
   "metadata": {},
   "outputs": [],
   "source": [
    "from PIL import Image\n",
    "import numpy as np"
   ]
  },
  {
   "cell_type": "code",
   "execution_count": 91,
   "metadata": {},
   "outputs": [],
   "source": [
    "im=Image.open(\"simpson.png\")\n",
    "im.show()"
   ]
  },
  {
   "cell_type": "code",
   "execution_count": 92,
   "metadata": {},
   "outputs": [
    {
     "name": "stdout",
     "output_type": "stream",
     "text": [
      "626 417 4\n"
     ]
    }
   ],
   "source": [
    "tableau=np.array(im)\n",
    "nb_lignes,nb_colonnes,r=tableau.shape\n",
    "print(nb_lignes,nb_colonnes,r)\n"
   ]
  },
  {
   "cell_type": "code",
   "execution_count": 93,
   "metadata": {},
   "outputs": [
    {
     "name": "stdout",
     "output_type": "stream",
     "text": [
      "[[255 101 165 255]\n",
      " [255 101 165 255]\n",
      " [255 101 165 255]\n",
      " ...\n",
      " [ 39  20  13 255]\n",
      " [ 38  19  12 255]\n",
      " [ 49  29  22 255]]\n"
     ]
    }
   ],
   "source": [
    "print(tableau[0])"
   ]
  },
  {
   "cell_type": "code",
   "execution_count": 94,
   "metadata": {},
   "outputs": [
    {
     "name": "stdout",
     "output_type": "stream",
     "text": [
      "[255 101 165 255]\n"
     ]
    }
   ],
   "source": [
    "print(tableau[0][0])"
   ]
  },
  {
   "cell_type": "code",
   "execution_count": 95,
   "metadata": {},
   "outputs": [
    {
     "name": "stdout",
     "output_type": "stream",
     "text": [
      "255\n"
     ]
    }
   ],
   "source": [
    "print(tableau[0][0][0])"
   ]
  },
  {
   "cell_type": "code",
   "execution_count": 96,
   "metadata": {},
   "outputs": [
    {
     "name": "stdout",
     "output_type": "stream",
     "text": [
      "101\n"
     ]
    }
   ],
   "source": [
    "print(tableau[0][0][1])"
   ]
  },
  {
   "cell_type": "code",
   "execution_count": 97,
   "metadata": {},
   "outputs": [
    {
     "name": "stdout",
     "output_type": "stream",
     "text": [
      "PNG (417, 626) RGBA\n"
     ]
    }
   ],
   "source": [
    "print(im.format, im.size, im.mode)"
   ]
  },
  {
   "cell_type": "code",
   "execution_count": 98,
   "metadata": {},
   "outputs": [
    {
     "name": "stdout",
     "output_type": "stream",
     "text": [
      "(626, 417, 4)\n"
     ]
    }
   ],
   "source": [
    "print(tableau.shape)"
   ]
  },
  {
   "cell_type": "code",
   "execution_count": 99,
   "metadata": {},
   "outputs": [
    {
     "name": "stdout",
     "output_type": "stream",
     "text": [
      "[253 230   2 255]\n"
     ]
    }
   ],
   "source": [
    "print(tableau[nb_lignes-1][nb_colonnes-1])"
   ]
  },
  {
   "cell_type": "code",
   "execution_count": 102,
   "metadata": {},
   "outputs": [],
   "source": [
    "tableau1=tableau.copy()\n",
    "for ligne in range(nb_lignes):\n",
    "    for colonne in range(nb_colonnes):\n",
    "        #tableau1[ligne][colonne][0]=0\n",
    "        tableau1[ligne][colonne][1]=0\n",
    "        tableau1[ligne][colonne][2]=0\n",
    "\n",
    "new=Image.fromarray(tableau1)\n",
    "new.show()"
   ]
  },
  {
   "cell_type": "code",
   "execution_count": 103,
   "metadata": {},
   "outputs": [],
   "source": [
    "tableau2=tableau.copy()\n",
    "for ligne in range(nb_lignes):\n",
    "    tableau2[ligne][205][0]=0\n",
    "    tableau2[ligne][205][1]=0\n",
    "    tableau2[ligne][205][2]=0\n",
    "\n",
    "new=Image.fromarray(tableau2)\n",
    "new.show()"
   ]
  }
 ],
 "metadata": {
  "kernelspec": {
   "display_name": ".venv",
   "language": "python",
   "name": "python3"
  },
  "language_info": {
   "codemirror_mode": {
    "name": "ipython",
    "version": 3
   },
   "file_extension": ".py",
   "mimetype": "text/x-python",
   "name": "python",
   "nbconvert_exporter": "python",
   "pygments_lexer": "ipython3",
   "version": "3.10.11"
  }
 },
 "nbformat": 4,
 "nbformat_minor": 2
}
