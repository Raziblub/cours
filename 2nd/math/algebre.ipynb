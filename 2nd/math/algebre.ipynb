{
 "cells": [
  {
   "cell_type": "markdown",
   "metadata": {},
   "source": [
    "\n",
    "# Identités remarquable\n",
    "## Identités remarquable\n",
    "### Identités remarquable\n",
    "#### Identités remarquable\n",
    "##### Identités remarquable\n",
    "###### Identités remarquable\n",
    "\n",
    "$(a+b)^2=a^2+2ab+b^2$  \n",
    "$(a-b)^2=a^2-2ab+b^2$  \n",
    "$(a+b)(a-b)=a^2-b^2$  \n",
    "\n",
    "$(a+b)^2=a^2+2ab+b^2$   \n",
    "$(a-b)^2=a^2-2ab+b^2$   \n",
    "$(a-b)(a+b)=a^2-b^2$   \n"
   ]
  },
  {
   "cell_type": "code",
   "execution_count": 2,
   "metadata": {},
   "outputs": [
    {
     "name": "stdout",
     "output_type": "stream",
     "text": [
      "toto\n"
     ]
    }
   ],
   "source": [
    "print(\"toto\")"
   ]
  }
 ],
 "metadata": {
  "kernelspec": {
   "display_name": "Python 3",
   "language": "python",
   "name": "python3"
  },
  "language_info": {
   "codemirror_mode": {
    "name": "ipython",
    "version": 3
   },
   "file_extension": ".py",
   "mimetype": "text/x-python",
   "name": "python",
   "nbconvert_exporter": "python",
   "pygments_lexer": "ipython3",
   "version": "3.10.11"
  }
 },
 "nbformat": 4,
 "nbformat_minor": 2
}
